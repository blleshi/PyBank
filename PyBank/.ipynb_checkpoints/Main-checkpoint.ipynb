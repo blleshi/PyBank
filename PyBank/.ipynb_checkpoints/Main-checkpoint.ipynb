{
 "cells": [
  {
   "cell_type": "code",
   "execution_count": 4,
   "id": "d7e94940-e817-413e-a2e3-340146ffe1f2",
   "metadata": {},
   "outputs": [
    {
     "name": "stdout",
     "output_type": "stream",
     "text": [
      "\n",
      "Financial Analysis\n",
      "----------------------------\n",
      "Total Months: 86\n",
      "Total: $38382578\n",
      "Average  Change: $-2315.12\n",
      "Greatest Increase in Profits: Feb-12 ($1926159.0)\n",
      "Greatest Decrease in Profits: Sep-13 ($-2196167.0)\n",
      "\n"
     ]
    }
   ],
   "source": [
    "import pandas as pd\n",
    "\n",
    "# Path to the CSV file\n",
    "file_path = \"C:/Users/brigi/Python-Challenge/PyBank/Resources/budget_data.csv\"\n",
    "\n",
    "# CSV file into a DataFrame\n",
    "df = pd.read_csv(file_path)\n",
    "\n",
    "# Calculations\n",
    "total_months = len(df)\n",
    "net_total = df['Profit/Losses'].sum()\n",
    "df['Change'] = df['Profit/Losses'].diff()\n",
    "average_change = df['Change'].mean()\n",
    "greatest_increase = df.loc[df['Change'].idxmax()]\n",
    "greatest_decrease = df.loc[df['Change'].idxmin()]\n",
    "\n",
    "# Financial Analysis Report\n",
    "financial_analysis = f\"\"\"\n",
    "Financial Analysis\n",
    "----------------------------\n",
    "Total Months: {total_months}\n",
    "Total: ${net_total}\n",
    "Average  Change: ${average_change:.2f}\n",
    "Greatest Increase in Profits: {greatest_increase['Date']} (${greatest_increase['Change']})\n",
    "Greatest Decrease in Profits: {greatest_decrease['Date']} (${greatest_decrease['Change']})\n",
    "\"\"\"\n",
    "\n",
    "# Print financial analysis report\n",
    "print(financial_analysis)\n"
   ]
  },
  {
   "cell_type": "code",
   "execution_count": null,
   "id": "200c61f4-b607-4758-835a-293f9c192bcb",
   "metadata": {},
   "outputs": [],
   "source": []
  }
 ],
 "metadata": {
  "kernelspec": {
   "display_name": "Python 3 (ipykernel)",
   "language": "python",
   "name": "python3"
  },
  "language_info": {
   "codemirror_mode": {
    "name": "ipython",
    "version": 3
   },
   "file_extension": ".py",
   "mimetype": "text/x-python",
   "name": "python",
   "nbconvert_exporter": "python",
   "pygments_lexer": "ipython3",
   "version": "3.11.7"
  }
 },
 "nbformat": 4,
 "nbformat_minor": 5
}
